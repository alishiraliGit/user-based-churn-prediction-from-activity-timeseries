{
 "cells": [
  {
   "cell_type": "code",
   "execution_count": 1,
   "metadata": {},
   "outputs": [],
   "source": [
    "import numpy as np\n",
    "from scipy.io import loadmat\n",
    "import os\n",
    "import matplotlib.pyplot as plt\n",
    "from tqdm import tqdm\n",
    "from sklearn.model_selection import train_test_split\n",
    "import tensorflow as tf\n",
    "from tensorflow.keras.layers import Conv1D, LSTM, Dense\n",
    "from tensorflow.keras import Model, Input"
   ]
  },
  {
   "cell_type": "markdown",
   "metadata": {},
   "source": [
    "# Settings"
   ]
  },
  {
   "cell_type": "markdown",
   "metadata": {},
   "source": [
    "## General settings"
   ]
  },
  {
   "cell_type": "code",
   "execution_count": 9,
   "metadata": {},
   "outputs": [],
   "source": [
    "settings = {}\n",
    "settings['cdrtype'] = 0\n",
    "settings['diffh'] = 9\n",
    "settings['method'] = 'multiparametric'\n",
    "\n",
    "def sett2str(sett):\n",
    "    sett_str = ''\n",
    "    for key, value in sett.items():\n",
    "        sett_str += '%s%s_' % (key, value)\n",
    "    return sett_str[:-1]"
   ]
  },
  {
   "cell_type": "markdown",
   "metadata": {},
   "source": [
    "## Path settings"
   ]
  },
  {
   "cell_type": "code",
   "execution_count": 10,
   "metadata": {},
   "outputs": [],
   "source": [
    "save_path = 'results'\n",
    "load_path = os.path.join('results', 'timeseries')\n"
   ]
  },
  {
   "cell_type": "markdown",
   "metadata": {},
   "source": [
    "# Load timeseries"
   ]
  },
  {
   "cell_type": "code",
   "execution_count": 11,
   "metadata": {},
   "outputs": [
    {
     "name": "stdout",
     "output_type": "stream",
     "text": [
      "(20000, 42, 8) (20000,)\n"
     ]
    }
   ],
   "source": [
    "ts = None\n",
    "\n",
    "for cdrtype in [1, 2, 3, 4]:\n",
    "    settings['cdrtype'] = cdrtype\n",
    "    \n",
    "    file_path = os.path.join(load_path, 'ts_%s.mat' % sett2str(settings))\n",
    "    \n",
    "    if settings['method'] == 'multiparametric':\n",
    "        ts_i = loadmat(file_path)['ts']\n",
    "    else:\n",
    "        ts_i = np.expand_dims(loadmat(file_path)['ts'], axis=2)\n",
    "    \n",
    "    if ts is None:\n",
    "        ts = ts_i\n",
    "    else:\n",
    "        ts = np.concatenate((ts, ts_i), axis=2)\n",
    "\n",
    "y = np.ones((ts.shape[0],))\n",
    "y[int(y.shape[0]/2):] = 0\n",
    "\n",
    "print(ts.shape, y.shape)"
   ]
  },
  {
   "cell_type": "markdown",
   "metadata": {},
   "source": [
    "# Train-Test split"
   ]
  },
  {
   "cell_type": "code",
   "execution_count": 12,
   "metadata": {},
   "outputs": [],
   "source": [
    "ts_tr, ts_te, y_tr, y_te = train_test_split(ts, y, test_size=0.2, random_state=1)"
   ]
  },
  {
   "cell_type": "markdown",
   "metadata": {},
   "source": [
    "# LSTM"
   ]
  },
  {
   "cell_type": "markdown",
   "metadata": {},
   "source": [
    "## Define network"
   ]
  },
  {
   "cell_type": "code",
   "execution_count": 13,
   "metadata": {},
   "outputs": [
    {
     "name": "stdout",
     "output_type": "stream",
     "text": [
      "Model: \"model_1\"\n",
      "_________________________________________________________________\n",
      "Layer (type)                 Output Shape              Param #   \n",
      "=================================================================\n",
      "input (InputLayer)           [(None, 42, 8)]           0         \n",
      "_________________________________________________________________\n",
      "lstm_1 (LSTM)                (None, 7)                 448       \n",
      "_________________________________________________________________\n",
      "dense_1 (Dense)              (None, 1)                 8         \n",
      "=================================================================\n",
      "Total params: 456\n",
      "Trainable params: 456\n",
      "Non-trainable params: 0\n",
      "_________________________________________________________________\n"
     ]
    }
   ],
   "source": [
    "n_sample_per_user = ts.shape[1]\n",
    "n_ch = ts.shape[2]\n",
    "\n",
    "input_layer = Input(\n",
    "    shape=(n_sample_per_user, n_ch),\n",
    "    name='input'\n",
    ")\n",
    "\n",
    "lstm_layer = LSTM(\n",
    "    units=int(n_sample_per_user/6),\n",
    "    activation=None,\n",
    "    use_bias=True,\n",
    "    name='lstm_1'\n",
    ")(input_layer)\n",
    "\n",
    "dense = Dense(\n",
    "    units=1,\n",
    "    activation='sigmoid',\n",
    "    use_bias=True,\n",
    "    name='dense_1'\n",
    ")(lstm_layer)\n",
    "\n",
    "    \n",
    "mdl = Model(inputs=input_layer, outputs=dense)\n",
    "\n",
    "mdl.summary()"
   ]
  },
  {
   "cell_type": "markdown",
   "metadata": {},
   "source": [
    "## Compile"
   ]
  },
  {
   "cell_type": "code",
   "execution_count": 14,
   "metadata": {},
   "outputs": [],
   "source": [
    "mdl.compile(loss='binary_crossentropy',\n",
    "            optimizer='adam',\n",
    "            metrics=['accuracy'])"
   ]
  },
  {
   "cell_type": "markdown",
   "metadata": {},
   "source": [
    "## Fit"
   ]
  },
  {
   "cell_type": "code",
   "execution_count": 15,
   "metadata": {},
   "outputs": [
    {
     "name": "stdout",
     "output_type": "stream",
     "text": [
      "Epoch 1/3\n",
      "500/500 [==============================] - 25s 42ms/step - loss: 0.5412 - accuracy: 0.6738 - val_loss: 0.3548 - val_accuracy: 0.8543\n",
      "Epoch 2/3\n",
      "500/500 [==============================] - 18s 36ms/step - loss: 0.3512 - accuracy: 0.8520 - val_loss: 0.3486 - val_accuracy: 0.8528\n",
      "Epoch 3/3\n",
      "500/500 [==============================] - 18s 35ms/step - loss: 0.3470 - accuracy: 0.8556 - val_loss: 0.3670 - val_accuracy: 0.8555\n"
     ]
    },
    {
     "data": {
      "text/plain": [
       "<tensorflow.python.keras.callbacks.History at 0x15582d310>"
      ]
     },
     "execution_count": 15,
     "metadata": {},
     "output_type": "execute_result"
    }
   ],
   "source": [
    "mdl.fit(ts_tr, y_tr,\n",
    "        validation_data=(ts_te, y_te),\n",
    "        epochs=3,\n",
    "        verbose=1)"
   ]
  },
  {
   "cell_type": "code",
   "execution_count": null,
   "metadata": {},
   "outputs": [],
   "source": []
  }
 ],
 "metadata": {
  "kernelspec": {
   "display_name": "Python 3",
   "language": "python",
   "name": "python3"
  },
  "language_info": {
   "codemirror_mode": {
    "name": "ipython",
    "version": 3
   },
   "file_extension": ".py",
   "mimetype": "text/x-python",
   "name": "python",
   "nbconvert_exporter": "python",
   "pygments_lexer": "ipython3",
   "version": "3.8.2"
  }
 },
 "nbformat": 4,
 "nbformat_minor": 4
}
