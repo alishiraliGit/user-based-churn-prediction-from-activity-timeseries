{
 "cells": [
  {
   "cell_type": "code",
   "execution_count": 1,
   "metadata": {},
   "outputs": [],
   "source": [
    "import numpy as np\n",
    "from scipy.io import loadmat\n",
    "import os\n",
    "import matplotlib.pyplot as plt\n",
    "from tqdm import tqdm\n",
    "from sklearn.model_selection import train_test_split\n",
    "from sklearn.linear_model import LogisticRegression"
   ]
  },
  {
   "cell_type": "markdown",
   "metadata": {},
   "source": [
    "# Settings"
   ]
  },
  {
   "cell_type": "markdown",
   "metadata": {},
   "source": [
    "## General settings"
   ]
  },
  {
   "cell_type": "code",
   "execution_count": 2,
   "metadata": {},
   "outputs": [],
   "source": [
    "settings = {}\n",
    "settings['cdrtype'] = 0\n",
    "settings['diffh'] = 2\n",
    "settings['method'] = 'binaryparametric'\n",
    "\n",
    "def sett2str(sett):\n",
    "    sett_str = ''\n",
    "    for key, value in sett.items():\n",
    "        sett_str += '%s%s_' % (key, value)\n",
    "    return sett_str[:-1]"
   ]
  },
  {
   "cell_type": "markdown",
   "metadata": {},
   "source": [
    "## Path settings"
   ]
  },
  {
   "cell_type": "code",
   "execution_count": 3,
   "metadata": {},
   "outputs": [],
   "source": [
    "save_path = 'results'\n",
    "load_path = os.path.join('results', 'timeseries')\n"
   ]
  },
  {
   "cell_type": "markdown",
   "metadata": {},
   "source": [
    "# Load timeseries"
   ]
  },
  {
   "cell_type": "code",
   "execution_count": 4,
   "metadata": {},
   "outputs": [
    {
     "name": "stdout",
     "output_type": "stream",
     "text": [
      "(20000, 231, 4) (20000,)\n"
     ]
    }
   ],
   "source": [
    "ts = None\n",
    "\n",
    "for cdrtype in [1, 2, 3, 4]:\n",
    "    settings['cdrtype'] = cdrtype\n",
    "    \n",
    "    file_path = os.path.join(load_path, 'ts_%s.mat' % sett2str(settings))\n",
    "    \n",
    "    if settings['method'] == 'multiparametric':\n",
    "        ts_i = loadmat(file_path)['ts']\n",
    "    else:\n",
    "        ts_i = np.expand_dims(loadmat(file_path)['ts'], axis=2)\n",
    "    \n",
    "    if ts is None:\n",
    "        ts = ts_i\n",
    "    else:\n",
    "        ts = np.concatenate((ts, ts_i), axis=2)\n",
    "\n",
    "y = np.ones((ts.shape[0],))\n",
    "y[int(y.shape[0]/2):] = 0\n",
    "\n",
    "print(ts.shape, y.shape)"
   ]
  },
  {
   "cell_type": "markdown",
   "metadata": {},
   "source": [
    "# Train-Test split"
   ]
  },
  {
   "cell_type": "code",
   "execution_count": 5,
   "metadata": {},
   "outputs": [],
   "source": [
    "ts_tr, ts_te, y_tr, y_te = train_test_split(ts, y, test_size=0.2, random_state=1)"
   ]
  },
  {
   "cell_type": "markdown",
   "metadata": {},
   "source": [
    "# Average"
   ]
  },
  {
   "cell_type": "code",
   "execution_count": 66,
   "metadata": {},
   "outputs": [
    {
     "name": "stderr",
     "output_type": "stream",
     "text": [
      "100%|██████████| 4/4 [00:00<00:00, 30.29it/s]\n"
     ]
    }
   ],
   "source": [
    "y_pr_s = np.zeros((y_te.shape[0], ts_te.shape[2]))\n",
    "\n",
    "for dim in tqdm(range(y_pr_s.shape[1])):\n",
    "    lr = LogisticRegression()\n",
    "\n",
    "    mean_tr = np.mean(ts_tr[:, :, dim], axis=1).reshape((-1, 1))\n",
    "\n",
    "    lr.fit(mean_tr, y_tr)\n",
    "\n",
    "    mean_te = np.mean(ts_te[:, :, dim], axis=1).reshape((-1, 1))\n",
    "\n",
    "    y_pr_i = lr.predict(mean_te)\n",
    "        \n",
    "    y_pr_s[:, dim] = y_pr_i\n"
   ]
  },
  {
   "cell_type": "code",
   "execution_count": 67,
   "metadata": {},
   "outputs": [
    {
     "name": "stdout",
     "output_type": "stream",
     "text": [
      "0.852\n"
     ]
    }
   ],
   "source": [
    "y_pr = np.mean(y_pr_s, axis=1) > 0.5\n",
    "\n",
    "acc = np.sum(y_pr == y_te)/y_pr.shape[0]\n",
    "\n",
    "print(acc)"
   ]
  },
  {
   "cell_type": "code",
   "execution_count": null,
   "metadata": {},
   "outputs": [],
   "source": []
  }
 ],
 "metadata": {
  "kernelspec": {
   "display_name": "Python 3",
   "language": "python",
   "name": "python3"
  },
  "language_info": {
   "codemirror_mode": {
    "name": "ipython",
    "version": 3
   },
   "file_extension": ".py",
   "mimetype": "text/x-python",
   "name": "python",
   "nbconvert_exporter": "python",
   "pygments_lexer": "ipython3",
   "version": "3.8.2"
  }
 },
 "nbformat": 4,
 "nbformat_minor": 4
}
