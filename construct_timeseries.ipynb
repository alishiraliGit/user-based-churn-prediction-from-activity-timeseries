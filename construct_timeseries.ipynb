{
 "cells": [
  {
   "cell_type": "code",
   "execution_count": 1,
   "metadata": {},
   "outputs": [],
   "source": [
    "import numpy as np\n",
    "from matplotlib import pyplot as plt\n",
    "import pandas as pd\n",
    "from datetime import datetime\n",
    "import os\n",
    "from scipy.io import savemat\n",
    "import scipy.stats as stat\n"
   ]
  },
  {
   "cell_type": "markdown",
   "metadata": {},
   "source": [
    "# Settings"
   ]
  },
  {
   "cell_type": "markdown",
   "metadata": {},
   "source": [
    "## Path settings"
   ]
  },
  {
   "cell_type": "code",
   "execution_count": 2,
   "metadata": {},
   "outputs": [],
   "source": [
    "save_path = 'results'\n",
    "load_path = os.path.join('..', 'data', 'raw-timeseries')\n",
    "ch_file_path = os.path.join(load_path, 'timeseries_10k_churners_of_20210109_from_20201226_to_20210116.csv')\n",
    "no_file_path = os.path.join(load_path, 'timeseries_10k_non-churners_of_20210109_from_20201226_to_20210116.csv')\n",
    "\n",
    "origin_dt = datetime.strptime('20201226 00:00:00', '%Y%m%d %H:%M:%S')"
   ]
  },
  {
   "cell_type": "markdown",
   "metadata": {},
   "source": [
    "# Distribution functions"
   ]
  },
  {
   "cell_type": "code",
   "execution_count": 3,
   "metadata": {},
   "outputs": [],
   "source": [
    "def poisson(k, lamb):\n",
    "    return lamb**(k)*np.exp(-lamb)/np.math.factorial(k)\n",
    "\n",
    "def cdf_poisson(k, lamb):\n",
    "    cdf = 0\n",
    "    for k_i in range(k+1):\n",
    "        cdf += poisson(k_i, lamb)\n",
    "    return cdf\n",
    "\n",
    "def fit_poisson(x):\n",
    "    n = x.shape[0]\n",
    "    lamb = np.sum(x)/n\n",
    "    return lamb\n",
    "\n",
    "def eq_point_of_poissons(lamb_1, lamb_2):\n",
    "    return (lamb_2 - lamb_1)/np.log(lamb_2/lamb_1)\n",
    "        "
   ]
  },
  {
   "cell_type": "markdown",
   "metadata": {},
   "source": [
    "# Load data"
   ]
  },
  {
   "cell_type": "markdown",
   "metadata": {},
   "source": [
    "## Loader functions"
   ]
  },
  {
   "cell_type": "code",
   "execution_count": 4,
   "metadata": {},
   "outputs": [],
   "source": [
    "def from_origin_to_hours(row):\n",
    "    record_date = row['RECORD_DATE']\n",
    "    return (record_date - origin_dt).total_seconds()/3600\n",
    "\n",
    "def load_and_convert_data(file_path):\n",
    "    df = pd.read_csv(file_path, parse_dates=['RECORD_DATE'], infer_datetime_format=True)\n",
    "    df['t'] = df.apply(from_origin_to_hours, axis=1)\n",
    "    return df"
   ]
  },
  {
   "cell_type": "markdown",
   "metadata": {},
   "source": [
    "## Load files"
   ]
  },
  {
   "cell_type": "code",
   "execution_count": 5,
   "metadata": {},
   "outputs": [
    {
     "data": {
      "text/html": [
       "<div>\n",
       "<style scoped>\n",
       "    .dataframe tbody tr th:only-of-type {\n",
       "        vertical-align: middle;\n",
       "    }\n",
       "\n",
       "    .dataframe tbody tr th {\n",
       "        vertical-align: top;\n",
       "    }\n",
       "\n",
       "    .dataframe thead th {\n",
       "        text-align: right;\n",
       "    }\n",
       "</style>\n",
       "<table border=\"1\" class=\"dataframe\">\n",
       "  <thead>\n",
       "    <tr style=\"text-align: right;\">\n",
       "      <th></th>\n",
       "      <th>MSISDN</th>\n",
       "      <th>CALL_PARTNER</th>\n",
       "      <th>CALL_DURATION</th>\n",
       "      <th>CDR_TYPE</th>\n",
       "      <th>RECORD_DATE</th>\n",
       "      <th>t</th>\n",
       "    </tr>\n",
       "  </thead>\n",
       "  <tbody>\n",
       "    <tr>\n",
       "      <th>0</th>\n",
       "      <td>989907869153</td>\n",
       "      <td>989014017231</td>\n",
       "      <td>62.0</td>\n",
       "      <td>2</td>\n",
       "      <td>2020-12-26 14:11:10</td>\n",
       "      <td>14.186111</td>\n",
       "    </tr>\n",
       "    <tr>\n",
       "      <th>1</th>\n",
       "      <td>989907869153</td>\n",
       "      <td>989014017231</td>\n",
       "      <td>31.0</td>\n",
       "      <td>2</td>\n",
       "      <td>2020-12-26 18:11:46</td>\n",
       "      <td>18.196111</td>\n",
       "    </tr>\n",
       "    <tr>\n",
       "      <th>2</th>\n",
       "      <td>989907869153</td>\n",
       "      <td>HAMRAH AVAL</td>\n",
       "      <td>0.0</td>\n",
       "      <td>4</td>\n",
       "      <td>2020-12-27 20:24:10</td>\n",
       "      <td>44.402778</td>\n",
       "    </tr>\n",
       "  </tbody>\n",
       "</table>\n",
       "</div>"
      ],
      "text/plain": [
       "         MSISDN  CALL_PARTNER  CALL_DURATION  CDR_TYPE         RECORD_DATE  \\\n",
       "0  989907869153  989014017231           62.0         2 2020-12-26 14:11:10   \n",
       "1  989907869153  989014017231           31.0         2 2020-12-26 18:11:46   \n",
       "2  989907869153   HAMRAH AVAL            0.0         4 2020-12-27 20:24:10   \n",
       "\n",
       "           t  \n",
       "0  14.186111  \n",
       "1  18.196111  \n",
       "2  44.402778  "
      ]
     },
     "execution_count": 5,
     "metadata": {},
     "output_type": "execute_result"
    }
   ],
   "source": [
    "ch_df = load_and_convert_data(ch_file_path)\n",
    "ch_df.tail(3)"
   ]
  },
  {
   "cell_type": "code",
   "execution_count": 6,
   "metadata": {},
   "outputs": [
    {
     "data": {
      "text/html": [
       "<div>\n",
       "<style scoped>\n",
       "    .dataframe tbody tr th:only-of-type {\n",
       "        vertical-align: middle;\n",
       "    }\n",
       "\n",
       "    .dataframe tbody tr th {\n",
       "        vertical-align: top;\n",
       "    }\n",
       "\n",
       "    .dataframe thead th {\n",
       "        text-align: right;\n",
       "    }\n",
       "</style>\n",
       "<table border=\"1\" class=\"dataframe\">\n",
       "  <thead>\n",
       "    <tr style=\"text-align: right;\">\n",
       "      <th></th>\n",
       "      <th>MSISDN</th>\n",
       "      <th>CALL_PARTNER</th>\n",
       "      <th>CALL_DURATION</th>\n",
       "      <th>CDR_TYPE</th>\n",
       "      <th>RECORD_DATE</th>\n",
       "      <th>t</th>\n",
       "    </tr>\n",
       "  </thead>\n",
       "  <tbody>\n",
       "    <tr>\n",
       "      <th>9953293</th>\n",
       "      <td>989138974045</td>\n",
       "      <td>988968</td>\n",
       "      <td>0.0</td>\n",
       "      <td>4</td>\n",
       "      <td>2021-01-15 19:41:41</td>\n",
       "      <td>499.694722</td>\n",
       "    </tr>\n",
       "    <tr>\n",
       "      <th>9953294</th>\n",
       "      <td>989138974045</td>\n",
       "      <td>988968</td>\n",
       "      <td>0.0</td>\n",
       "      <td>4</td>\n",
       "      <td>2021-01-15 19:42:00</td>\n",
       "      <td>499.700000</td>\n",
       "    </tr>\n",
       "    <tr>\n",
       "      <th>9953295</th>\n",
       "      <td>989138974045</td>\n",
       "      <td>989179721374</td>\n",
       "      <td>145.0</td>\n",
       "      <td>1</td>\n",
       "      <td>2021-01-15 17:26:51</td>\n",
       "      <td>497.447500</td>\n",
       "    </tr>\n",
       "  </tbody>\n",
       "</table>\n",
       "</div>"
      ],
      "text/plain": [
       "               MSISDN  CALL_PARTNER  CALL_DURATION  CDR_TYPE  \\\n",
       "9953293  989138974045        988968            0.0         4   \n",
       "9953294  989138974045        988968            0.0         4   \n",
       "9953295  989138974045  989179721374          145.0         1   \n",
       "\n",
       "                RECORD_DATE           t  \n",
       "9953293 2021-01-15 19:41:41  499.694722  \n",
       "9953294 2021-01-15 19:42:00  499.700000  \n",
       "9953295 2021-01-15 17:26:51  497.447500  "
      ]
     },
     "execution_count": 6,
     "metadata": {},
     "output_type": "execute_result"
    }
   ],
   "source": [
    "no_df = load_and_convert_data(no_file_path)\n",
    "no_df.tail(3)"
   ]
  },
  {
   "cell_type": "markdown",
   "metadata": {},
   "source": [
    "# Settings"
   ]
  },
  {
   "cell_type": "code",
   "execution_count": 70,
   "metadata": {},
   "outputs": [],
   "source": [
    "settings = {}\n",
    "settings['cdrtype'] = 1\n",
    "settings['diffh'] = 9\n",
    "settings['method'] = 'multiparametric'\n",
    "day_in_h = 24\n",
    "hours = np.arange(0, day_in_h, settings['diffh'])\n",
    "n_day = 7*3\n",
    "\n",
    "def sett2str(sett):\n",
    "    sett_str = ''\n",
    "    for key, value in sett.items():\n",
    "        sett_str += '%s%s_' % (key, value)\n",
    "    return sett_str[:-1]"
   ]
  },
  {
   "cell_type": "markdown",
   "metadata": {},
   "source": [
    "# Conversion functions"
   ]
  },
  {
   "cell_type": "code",
   "execution_count": 71,
   "metadata": {},
   "outputs": [],
   "source": [
    "col_name = 'n_day%d_from%.1f_to%.1f'\n",
    "\n",
    "def bin_records(df, n_day, hours, cdr_type):\n",
    "    cdr_type_mask = (df['CDR_TYPE'] == cdr_type)\n",
    "    \n",
    "    users_n_df = df[['MSISDN', 't']].groupby(\n",
    "        by=['MSISDN'],\n",
    "        as_index=False,\n",
    "        dropna=True,\n",
    "        sort=False).count()['MSISDN']\n",
    "    \n",
    "    for day in range(n_day):\n",
    "        for i_h, from_h in enumerate(hours[:-1]):\n",
    "            to_h = hours[i_h + 1]\n",
    "            \n",
    "            # Define masks\n",
    "            interval_mask =  (df['t'] >= (day*day_in_h + from_h)) & (df['t'] < (day*day_in_h + to_h))\n",
    "            \n",
    "            # Extract data\n",
    "            partial_df = df[interval_mask & cdr_type_mask]\n",
    "            \n",
    "            # Bin the partial data\n",
    "            partial_users_n_df = partial_df[['MSISDN', 't']].groupby(\n",
    "                by=['MSISDN'],\n",
    "                as_index=False,\n",
    "                dropna=True,\n",
    "                sort=False).count().rename(columns={'t': col_name % (day, from_h, to_h)})\n",
    "\n",
    "            users_n_df = pd.merge(users_n_df, partial_users_n_df, how='left', on=['MSISDN'])\n",
    "\n",
    "    users_n_df[users_n_df.isnull()] = 0\n",
    "    \n",
    "    return users_n_df\n",
    "\n",
    "\n",
    "def convert_to_binary_parametric(ch_users_n_df, no_users_n_df):\n",
    "    n_user = ch_users_n_df.shape[0] + no_users_n_df.shape[0]\n",
    "    n_bin = ch_users_n_df.shape[1] - 1\n",
    "    \n",
    "    assert n_bin == (no_users_n_df.shape[1] - 1)\n",
    "    \n",
    "    is_ch_mat = np.zeros((n_user, n_bin))\n",
    "    \n",
    "    for i_bin in range(n_bin):\n",
    "        ch_n = ch_users_n_df.iloc[:, i_bin + 1].to_numpy()\n",
    "        no_n = no_users_n_df.iloc[:, i_bin + 1].to_numpy()\n",
    "\n",
    "        ch_lamb = fit_poisson(ch_n)\n",
    "        no_lamb = fit_poisson(no_n)\n",
    "\n",
    "        k_eq = eq_point_of_poissons(ch_lamb, no_lamb)\n",
    "\n",
    "        tot_n = np.concatenate((ch_n, no_n), axis=0)\n",
    "        \n",
    "        tot_binary = tot_n < k_eq\n",
    "\n",
    "        is_ch_mat[:, i_bin] = tot_binary\n",
    "        \n",
    "    return is_ch_mat\n",
    "\n",
    "\n",
    "def convert_to_2d_parametric(ch_users_n_df, no_users_n_df):\n",
    "    n_user = ch_users_n_df.shape[0] + no_users_n_df.shape[0]\n",
    "    n_bin = ch_users_n_df.shape[1] - 1\n",
    "    \n",
    "    assert n_bin == (no_users_n_df.shape[1] - 1)\n",
    "    \n",
    "    prob_mat = np.zeros((n_user, n_bin, 2))\n",
    "    \n",
    "    for i_bin in range(n_bin):\n",
    "        ch_n = ch_users_n_df.iloc[:, i_bin + 1].to_numpy()\n",
    "        no_n = no_users_n_df.iloc[:, i_bin + 1].to_numpy()\n",
    "        \n",
    "        tot_n = np.concatenate((ch_n, no_n), axis=0)\n",
    "\n",
    "        ch_lamb = fit_poisson(ch_n)\n",
    "        no_lamb = fit_poisson(no_n)\n",
    "        \n",
    "        n_user = tot_n.shape[0]\n",
    "        for i_user in range(n_user):\n",
    "            if tot_n[i_user] > 100:\n",
    "                prob_mat[i_user, i_bin, 0] = 0\n",
    "                prob_mat[i_user, i_bin, 1] = 0\n",
    "                continue\n",
    "                \n",
    "            prob_mat[i_user, i_bin, 0] = poisson(tot_n[i_user], ch_lamb)\n",
    "            prob_mat[i_user, i_bin, 1] = poisson(tot_n[i_user], no_lamb)\n",
    "        \n",
    "    return prob_mat\n",
    "\n",
    "\n",
    "def convert_to_zscore(ch_users_n_df, no_users_n_df):\n",
    "    n_user = ch_users_n_df.shape[0] + no_users_n_df.shape[0]\n",
    "    n_bin = ch_users_n_df.shape[1] - 1\n",
    "    \n",
    "    assert n_bin == (no_users_n_df.shape[1] - 1)\n",
    "    \n",
    "    is_no_mat = np.zeros((n_user, n_bin))\n",
    "        \n",
    "    for i_bin in range(n_bin):\n",
    "        ch_n = ch_users_n_df.iloc[:, i_bin + 1].to_numpy()\n",
    "        no_n = no_users_n_df.iloc[:, i_bin + 1].to_numpy()\n",
    "        \n",
    "        tot_n = np.concatenate((ch_n, no_n), axis=0)\n",
    "\n",
    "        ch_lamb = fit_poisson(ch_n)\n",
    "        no_lamb = fit_poisson(no_n)\n",
    "        \n",
    "        k_eq = eq_point_of_poissons(ch_lamb, no_lamb)\n",
    "        \n",
    "        n_user = tot_n.shape[0]\n",
    "        max_val = stat.norm.ppf(cdf_poisson(4*int(ch_lamb), ch_lamb))\n",
    "        \n",
    "        for i_user in range(n_user):\n",
    "            if tot_n[i_user] > 4*ch_lamb:\n",
    "                is_no_mat[i_user, i_bin] = max_val \n",
    "                continue\n",
    "                \n",
    "            if tot_n[i_user] > k_eq:\n",
    "                is_no_mat[i_user, i_bin] = stat.norm.ppf(cdf_poisson(tot_n[i_user].astype(int), ch_lamb))\n",
    "            else:\n",
    "                is_no_mat[i_user, i_bin] = stat.norm.ppf(cdf_poisson(tot_n[i_user].astype(int), no_lamb))\n",
    "        \n",
    "    return -is_no_mat"
   ]
  },
  {
   "cell_type": "markdown",
   "metadata": {},
   "source": [
    "# Convert dataframes"
   ]
  },
  {
   "cell_type": "code",
   "execution_count": 72,
   "metadata": {},
   "outputs": [
    {
     "name": "stdout",
     "output_type": "stream",
     "text": [
      "(10000, 43)\n"
     ]
    },
    {
     "data": {
      "text/html": [
       "<div>\n",
       "<style scoped>\n",
       "    .dataframe tbody tr th:only-of-type {\n",
       "        vertical-align: middle;\n",
       "    }\n",
       "\n",
       "    .dataframe tbody tr th {\n",
       "        vertical-align: top;\n",
       "    }\n",
       "\n",
       "    .dataframe thead th {\n",
       "        text-align: right;\n",
       "    }\n",
       "</style>\n",
       "<table border=\"1\" class=\"dataframe\">\n",
       "  <thead>\n",
       "    <tr style=\"text-align: right;\">\n",
       "      <th></th>\n",
       "      <th>MSISDN</th>\n",
       "      <th>n_day0_from0.0_to9.0</th>\n",
       "      <th>n_day0_from9.0_to18.0</th>\n",
       "      <th>n_day1_from0.0_to9.0</th>\n",
       "      <th>n_day1_from9.0_to18.0</th>\n",
       "      <th>n_day2_from0.0_to9.0</th>\n",
       "      <th>n_day2_from9.0_to18.0</th>\n",
       "      <th>n_day3_from0.0_to9.0</th>\n",
       "      <th>n_day3_from9.0_to18.0</th>\n",
       "      <th>n_day4_from0.0_to9.0</th>\n",
       "      <th>...</th>\n",
       "      <th>n_day16_from0.0_to9.0</th>\n",
       "      <th>n_day16_from9.0_to18.0</th>\n",
       "      <th>n_day17_from0.0_to9.0</th>\n",
       "      <th>n_day17_from9.0_to18.0</th>\n",
       "      <th>n_day18_from0.0_to9.0</th>\n",
       "      <th>n_day18_from9.0_to18.0</th>\n",
       "      <th>n_day19_from0.0_to9.0</th>\n",
       "      <th>n_day19_from9.0_to18.0</th>\n",
       "      <th>n_day20_from0.0_to9.0</th>\n",
       "      <th>n_day20_from9.0_to18.0</th>\n",
       "    </tr>\n",
       "  </thead>\n",
       "  <tbody>\n",
       "    <tr>\n",
       "      <th>0</th>\n",
       "      <td>989907869153</td>\n",
       "      <td>0.0</td>\n",
       "      <td>0.0</td>\n",
       "      <td>0.0</td>\n",
       "      <td>0.0</td>\n",
       "      <td>0.0</td>\n",
       "      <td>0.0</td>\n",
       "      <td>0.0</td>\n",
       "      <td>0.0</td>\n",
       "      <td>0.0</td>\n",
       "      <td>...</td>\n",
       "      <td>0.0</td>\n",
       "      <td>0.0</td>\n",
       "      <td>0.0</td>\n",
       "      <td>1.0</td>\n",
       "      <td>0.0</td>\n",
       "      <td>2.0</td>\n",
       "      <td>0.0</td>\n",
       "      <td>1.0</td>\n",
       "      <td>0.0</td>\n",
       "      <td>4.0</td>\n",
       "    </tr>\n",
       "    <tr>\n",
       "      <th>1</th>\n",
       "      <td>989907711995</td>\n",
       "      <td>0.0</td>\n",
       "      <td>0.0</td>\n",
       "      <td>0.0</td>\n",
       "      <td>0.0</td>\n",
       "      <td>0.0</td>\n",
       "      <td>0.0</td>\n",
       "      <td>0.0</td>\n",
       "      <td>1.0</td>\n",
       "      <td>0.0</td>\n",
       "      <td>...</td>\n",
       "      <td>0.0</td>\n",
       "      <td>0.0</td>\n",
       "      <td>0.0</td>\n",
       "      <td>0.0</td>\n",
       "      <td>0.0</td>\n",
       "      <td>0.0</td>\n",
       "      <td>0.0</td>\n",
       "      <td>0.0</td>\n",
       "      <td>0.0</td>\n",
       "      <td>0.0</td>\n",
       "    </tr>\n",
       "    <tr>\n",
       "      <th>2</th>\n",
       "      <td>989198416906</td>\n",
       "      <td>0.0</td>\n",
       "      <td>0.0</td>\n",
       "      <td>0.0</td>\n",
       "      <td>0.0</td>\n",
       "      <td>0.0</td>\n",
       "      <td>0.0</td>\n",
       "      <td>0.0</td>\n",
       "      <td>0.0</td>\n",
       "      <td>0.0</td>\n",
       "      <td>...</td>\n",
       "      <td>0.0</td>\n",
       "      <td>2.0</td>\n",
       "      <td>0.0</td>\n",
       "      <td>2.0</td>\n",
       "      <td>0.0</td>\n",
       "      <td>2.0</td>\n",
       "      <td>0.0</td>\n",
       "      <td>0.0</td>\n",
       "      <td>0.0</td>\n",
       "      <td>0.0</td>\n",
       "    </tr>\n",
       "  </tbody>\n",
       "</table>\n",
       "<p>3 rows × 43 columns</p>\n",
       "</div>"
      ],
      "text/plain": [
       "         MSISDN  n_day0_from0.0_to9.0  n_day0_from9.0_to18.0  \\\n",
       "0  989907869153                   0.0                    0.0   \n",
       "1  989907711995                   0.0                    0.0   \n",
       "2  989198416906                   0.0                    0.0   \n",
       "\n",
       "   n_day1_from0.0_to9.0  n_day1_from9.0_to18.0  n_day2_from0.0_to9.0  \\\n",
       "0                   0.0                    0.0                   0.0   \n",
       "1                   0.0                    0.0                   0.0   \n",
       "2                   0.0                    0.0                   0.0   \n",
       "\n",
       "   n_day2_from9.0_to18.0  n_day3_from0.0_to9.0  n_day3_from9.0_to18.0  \\\n",
       "0                    0.0                   0.0                    0.0   \n",
       "1                    0.0                   0.0                    1.0   \n",
       "2                    0.0                   0.0                    0.0   \n",
       "\n",
       "   n_day4_from0.0_to9.0  ...  n_day16_from0.0_to9.0  n_day16_from9.0_to18.0  \\\n",
       "0                   0.0  ...                    0.0                     0.0   \n",
       "1                   0.0  ...                    0.0                     0.0   \n",
       "2                   0.0  ...                    0.0                     2.0   \n",
       "\n",
       "   n_day17_from0.0_to9.0  n_day17_from9.0_to18.0  n_day18_from0.0_to9.0  \\\n",
       "0                    0.0                     1.0                    0.0   \n",
       "1                    0.0                     0.0                    0.0   \n",
       "2                    0.0                     2.0                    0.0   \n",
       "\n",
       "   n_day18_from9.0_to18.0  n_day19_from0.0_to9.0  n_day19_from9.0_to18.0  \\\n",
       "0                     2.0                    0.0                     1.0   \n",
       "1                     0.0                    0.0                     0.0   \n",
       "2                     2.0                    0.0                     0.0   \n",
       "\n",
       "   n_day20_from0.0_to9.0  n_day20_from9.0_to18.0  \n",
       "0                    0.0                     4.0  \n",
       "1                    0.0                     0.0  \n",
       "2                    0.0                     0.0  \n",
       "\n",
       "[3 rows x 43 columns]"
      ]
     },
     "execution_count": 72,
     "metadata": {},
     "output_type": "execute_result"
    }
   ],
   "source": [
    "ch_users_n_df = bin_records(ch_df, n_day=n_day, hours=hours, cdr_type=settings['cdrtype'])\n",
    "\n",
    "print(ch_users_n_df.shape)\n",
    "ch_users_n_df.head(3)"
   ]
  },
  {
   "cell_type": "code",
   "execution_count": 73,
   "metadata": {},
   "outputs": [
    {
     "name": "stdout",
     "output_type": "stream",
     "text": [
      "(10000, 43)\n"
     ]
    },
    {
     "data": {
      "text/html": [
       "<div>\n",
       "<style scoped>\n",
       "    .dataframe tbody tr th:only-of-type {\n",
       "        vertical-align: middle;\n",
       "    }\n",
       "\n",
       "    .dataframe tbody tr th {\n",
       "        vertical-align: top;\n",
       "    }\n",
       "\n",
       "    .dataframe thead th {\n",
       "        text-align: right;\n",
       "    }\n",
       "</style>\n",
       "<table border=\"1\" class=\"dataframe\">\n",
       "  <thead>\n",
       "    <tr style=\"text-align: right;\">\n",
       "      <th></th>\n",
       "      <th>MSISDN</th>\n",
       "      <th>n_day0_from0.0_to9.0</th>\n",
       "      <th>n_day0_from9.0_to18.0</th>\n",
       "      <th>n_day1_from0.0_to9.0</th>\n",
       "      <th>n_day1_from9.0_to18.0</th>\n",
       "      <th>n_day2_from0.0_to9.0</th>\n",
       "      <th>n_day2_from9.0_to18.0</th>\n",
       "      <th>n_day3_from0.0_to9.0</th>\n",
       "      <th>n_day3_from9.0_to18.0</th>\n",
       "      <th>n_day4_from0.0_to9.0</th>\n",
       "      <th>...</th>\n",
       "      <th>n_day16_from0.0_to9.0</th>\n",
       "      <th>n_day16_from9.0_to18.0</th>\n",
       "      <th>n_day17_from0.0_to9.0</th>\n",
       "      <th>n_day17_from9.0_to18.0</th>\n",
       "      <th>n_day18_from0.0_to9.0</th>\n",
       "      <th>n_day18_from9.0_to18.0</th>\n",
       "      <th>n_day19_from0.0_to9.0</th>\n",
       "      <th>n_day19_from9.0_to18.0</th>\n",
       "      <th>n_day20_from0.0_to9.0</th>\n",
       "      <th>n_day20_from9.0_to18.0</th>\n",
       "    </tr>\n",
       "  </thead>\n",
       "  <tbody>\n",
       "    <tr>\n",
       "      <th>0</th>\n",
       "      <td>989127504501</td>\n",
       "      <td>0.0</td>\n",
       "      <td>2.0</td>\n",
       "      <td>0.0</td>\n",
       "      <td>2.0</td>\n",
       "      <td>0.0</td>\n",
       "      <td>0.0</td>\n",
       "      <td>0.0</td>\n",
       "      <td>0.0</td>\n",
       "      <td>0.0</td>\n",
       "      <td>...</td>\n",
       "      <td>0.0</td>\n",
       "      <td>1.0</td>\n",
       "      <td>0.0</td>\n",
       "      <td>3.0</td>\n",
       "      <td>0.0</td>\n",
       "      <td>2.0</td>\n",
       "      <td>0.0</td>\n",
       "      <td>0.0</td>\n",
       "      <td>0.0</td>\n",
       "      <td>0.0</td>\n",
       "    </tr>\n",
       "    <tr>\n",
       "      <th>1</th>\n",
       "      <td>989123530464</td>\n",
       "      <td>3.0</td>\n",
       "      <td>2.0</td>\n",
       "      <td>1.0</td>\n",
       "      <td>5.0</td>\n",
       "      <td>2.0</td>\n",
       "      <td>8.0</td>\n",
       "      <td>2.0</td>\n",
       "      <td>2.0</td>\n",
       "      <td>0.0</td>\n",
       "      <td>...</td>\n",
       "      <td>0.0</td>\n",
       "      <td>1.0</td>\n",
       "      <td>1.0</td>\n",
       "      <td>2.0</td>\n",
       "      <td>0.0</td>\n",
       "      <td>0.0</td>\n",
       "      <td>0.0</td>\n",
       "      <td>1.0</td>\n",
       "      <td>1.0</td>\n",
       "      <td>4.0</td>\n",
       "    </tr>\n",
       "    <tr>\n",
       "      <th>2</th>\n",
       "      <td>989100986959</td>\n",
       "      <td>0.0</td>\n",
       "      <td>5.0</td>\n",
       "      <td>1.0</td>\n",
       "      <td>1.0</td>\n",
       "      <td>0.0</td>\n",
       "      <td>0.0</td>\n",
       "      <td>1.0</td>\n",
       "      <td>2.0</td>\n",
       "      <td>0.0</td>\n",
       "      <td>...</td>\n",
       "      <td>1.0</td>\n",
       "      <td>1.0</td>\n",
       "      <td>0.0</td>\n",
       "      <td>2.0</td>\n",
       "      <td>0.0</td>\n",
       "      <td>3.0</td>\n",
       "      <td>0.0</td>\n",
       "      <td>0.0</td>\n",
       "      <td>0.0</td>\n",
       "      <td>0.0</td>\n",
       "    </tr>\n",
       "  </tbody>\n",
       "</table>\n",
       "<p>3 rows × 43 columns</p>\n",
       "</div>"
      ],
      "text/plain": [
       "         MSISDN  n_day0_from0.0_to9.0  n_day0_from9.0_to18.0  \\\n",
       "0  989127504501                   0.0                    2.0   \n",
       "1  989123530464                   3.0                    2.0   \n",
       "2  989100986959                   0.0                    5.0   \n",
       "\n",
       "   n_day1_from0.0_to9.0  n_day1_from9.0_to18.0  n_day2_from0.0_to9.0  \\\n",
       "0                   0.0                    2.0                   0.0   \n",
       "1                   1.0                    5.0                   2.0   \n",
       "2                   1.0                    1.0                   0.0   \n",
       "\n",
       "   n_day2_from9.0_to18.0  n_day3_from0.0_to9.0  n_day3_from9.0_to18.0  \\\n",
       "0                    0.0                   0.0                    0.0   \n",
       "1                    8.0                   2.0                    2.0   \n",
       "2                    0.0                   1.0                    2.0   \n",
       "\n",
       "   n_day4_from0.0_to9.0  ...  n_day16_from0.0_to9.0  n_day16_from9.0_to18.0  \\\n",
       "0                   0.0  ...                    0.0                     1.0   \n",
       "1                   0.0  ...                    0.0                     1.0   \n",
       "2                   0.0  ...                    1.0                     1.0   \n",
       "\n",
       "   n_day17_from0.0_to9.0  n_day17_from9.0_to18.0  n_day18_from0.0_to9.0  \\\n",
       "0                    0.0                     3.0                    0.0   \n",
       "1                    1.0                     2.0                    0.0   \n",
       "2                    0.0                     2.0                    0.0   \n",
       "\n",
       "   n_day18_from9.0_to18.0  n_day19_from0.0_to9.0  n_day19_from9.0_to18.0  \\\n",
       "0                     2.0                    0.0                     0.0   \n",
       "1                     0.0                    0.0                     1.0   \n",
       "2                     3.0                    0.0                     0.0   \n",
       "\n",
       "   n_day20_from0.0_to9.0  n_day20_from9.0_to18.0  \n",
       "0                    0.0                     0.0  \n",
       "1                    1.0                     4.0  \n",
       "2                    0.0                     0.0  \n",
       "\n",
       "[3 rows x 43 columns]"
      ]
     },
     "execution_count": 73,
     "metadata": {},
     "output_type": "execute_result"
    }
   ],
   "source": [
    "no_users_n_df = bin_records(no_df, n_day=n_day, hours=hours, cdr_type=settings['cdrtype'])\n",
    "\n",
    "print(no_users_n_df.shape)\n",
    "no_users_n_df.head(3)"
   ]
  },
  {
   "cell_type": "code",
   "execution_count": 74,
   "metadata": {},
   "outputs": [
    {
     "data": {
      "text/plain": [
       "Text(0, 0.5, 'pdf')"
      ]
     },
     "execution_count": 74,
     "metadata": {},
     "output_type": "execute_result"
    },
    {
     "data": {
      "image/png": "[encoded data removed]",
      "text/plain": [
       "<Figure size 432x288 with 1 Axes>"
      ]
     },
     "metadata": {
      "needs_background": "light"
     },
     "output_type": "display_data"
    }
   ],
   "source": [
    "rng = 8\n",
    "plt.hist(no_users_n_df.iloc[:, 1], bins=range(rng), density=True, color='b', alpha=0.5)\n",
    "plt.hist(ch_users_n_df.iloc[:, 1], bins=range(rng), density=True, color='r', alpha=0.5)\n",
    "\n",
    "plt.xlim(0, rng)\n",
    "plt.legend(('non-churners', 'churners'))\n",
    "plt.xlabel('count')\n",
    "plt.ylabel('pdf')\n",
    "\n",
    "# plt.savefig(os.path.join(save_path, 'img', 'sample_distribution_%s.png' % sett2str(settings)))"
   ]
  },
  {
   "cell_type": "markdown",
   "metadata": {},
   "source": [
    "# Construct timeseries"
   ]
  },
  {
   "cell_type": "code",
   "execution_count": 75,
   "metadata": {},
   "outputs": [],
   "source": [
    "if settings['method'] == 'binaryparametric':\n",
    "    ts = convert_to_binary_parametric(ch_users_n_df, no_users_n_df)\n",
    "elif settings['method'] == 'multiparametric':\n",
    "    ts = convert_to_2d_parametric(ch_users_n_df, no_users_n_df)\n",
    "elif settings['method'] == 'zscoreparametric':\n",
    "    ts = convert_to_zscore(ch_users_n_df, no_users_n_df)"
   ]
  },
  {
   "cell_type": "markdown",
   "metadata": {},
   "source": [
    "# Display timeseries"
   ]
  },
  {
   "cell_type": "code",
   "execution_count": 76,
   "metadata": {},
   "outputs": [
    {
     "data": {
      "text/plain": [
       "Text(0, 0.5, 'user ID')"
      ]
     },
     "execution_count": 76,
     "metadata": {},
     "output_type": "execute_result"
    },
    {
     "data": {
      "image/png": "[encoded data removed]",
      "text/plain": [
       "<Figure size 432x288 with 1 Axes>"
      ]
     },
     "metadata": {
      "needs_background": "light"
     },
     "output_type": "display_data"
    }
   ],
   "source": [
    "if settings['method'] == 'binaryparametric' or settings['method'] == 'zscoreparametric':\n",
    "    plt.imshow(ts, cmap='gray', aspect='auto')\n",
    "elif settings['method'] == 'multiparametric':\n",
    "    dummy_ts = np.zeros((ts.shape[0], ts.shape[1], 3))\n",
    "    dummy_ts[:, :, [0, 2]] = ts\n",
    "    plt.imshow(dummy_ts, aspect='auto')\n",
    "\n",
    "plt.xlabel('time bin')\n",
    "plt.ylabel('user ID')\n",
    "\n",
    "# plt.savefig(os.path.join(save_path, 'img', 'user_timebin_%s.png' % sett2str(settings)), dpi=100)"
   ]
  },
  {
   "cell_type": "markdown",
   "metadata": {},
   "source": [
    "# Save timeseries"
   ]
  },
  {
   "cell_type": "code",
   "execution_count": 77,
   "metadata": {},
   "outputs": [],
   "source": [
    "savemat(os.path.join(save_path, 'timeseries', 'ts_%s.mat' % sett2str(settings)), {'ts': ts})"
   ]
  },
  {
   "cell_type": "code",
   "execution_count": 78,
   "metadata": {},
   "outputs": [
    {
     "data": {
      "text/plain": [
       "(array([555521., 118383.,  16022., 130102., 139517., 313389.,  52322.,\n",
       "             0.,      0., 354744.]),\n",
       " array([0.        , 0.09480007, 0.18960015, 0.28440022, 0.37920029,\n",
       "        0.47400037, 0.56880044, 0.66360052, 0.75840059, 0.85320066,\n",
       "        0.94800074]),\n",
       " <BarContainer object of 10 artists>)"
      ]
     },
     "execution_count": 78,
     "metadata": {},
     "output_type": "execute_result"
    },
    {
     "data": {
      "image/png": "[encoded data removed]",
      "text/plain": [
       "<Figure size 432x288 with 1 Axes>"
      ]
     },
     "metadata": {
      "needs_background": "light"
     },
     "output_type": "display_data"
    }
   ],
   "source": [
    "plt.hist(ts.reshape((-1, )), bins=10)"
   ]
  },
  {
   "cell_type": "code",
   "execution_count": null,
   "metadata": {},
   "outputs": [],
   "source": []
  }
 ],
 "metadata": {
  "kernelspec": {
   "display_name": "devenv",
   "language": "python",
   "name": "devenv"
  },
  "language_info": {
   "codemirror_mode": {
    "name": "ipython",
    "version": 3
   },
   "file_extension": ".py",
   "mimetype": "text/x-python",
   "name": "python",
   "nbconvert_exporter": "python",
   "pygments_lexer": "ipython3",
   "version": "3.8.2"
  }
 },
 "nbformat": 4,
 "nbformat_minor": 4
}
